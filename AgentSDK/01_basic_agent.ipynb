{
 "cells": [
  {
   "cell_type": "markdown",
   "id": "b86f902e",
   "metadata": {},
   "source": [
    "# Basic Single AI Agent Example\n",
    "\n",
    "This notebook demonstrates how to create and use a basic AI agent using the OpenAI Agents SDK.\n",
    "\n",
    "## Prerequisites\n",
    "\n",
    "Before running this notebook, make sure you have:\n",
    "1. Set the `OPENAI_API_KEY` environment variable with your OpenAI API key\n",
    "2. Installed the required package\n",
    "\n",
    "## Setup\n",
    "\n",
    "First, let's install the required package:"
   ]
  },
  {
   "cell_type": "code",
   "execution_count": null,
   "id": "85b460c2",
   "metadata": {},
   "outputs": [],
   "source": [
    "!pip install openai-agents dotenv"
   ]
  },
  {
   "cell_type": "code",
   "execution_count": null,
   "id": "fa7312c0",
   "metadata": {
    "vscode": {
     "languageId": "markdown"
    }
   },
   "outputs": [],
   "source": [
    "## Read .env File and Load Environment Variable\n",
    "\n",
    "Read the `.env` file to load the `OPENAI_API_KEY` environment variable."
   ]
  },
  {
   "cell_type": "code",
   "execution_count": null,
   "id": "1a5e0b41",
   "metadata": {},
   "outputs": [],
   "source": [
    "from dotenv import load_dotenv\n",
    "\n",
    "# Load environment variables from a .env file\n",
    "load_dotenv()"
   ]
  },
  {
   "cell_type": "markdown",
   "id": "a249d24e",
   "metadata": {},
   "source": [
    "## Environment Check\n",
    "\n",
    "Let's verify that we have access to our OpenAI API key:"
   ]
  },
  {
   "cell_type": "code",
   "execution_count": 6,
   "id": "ab1bba03",
   "metadata": {},
   "outputs": [],
   "source": [
    "import os\n",
    "\n",
    "api_key = os.getenv('OPENAI_API_KEY')\n",
    "if not api_key:\n",
    "    raise ValueError(\"Please set the OPENAI_API_KEY environment variable before running this notebook\")"
   ]
  },
  {
   "cell_type": "markdown",
   "id": "9c5bcb15",
   "metadata": {},
   "source": [
    "## Let's create an assistant agent\n"
   ]
  },
  {
   "cell_type": "code",
   "execution_count": 7,
   "id": "a338c173-2886-4c0c-95f7-e02e29c5083a",
   "metadata": {},
   "outputs": [],
   "source": [
    "from agents import Agent, Runner\n",
    "\n",
    "# Create a basic agent\n",
    "agent = Agent(\n",
    "    name=\"Assistant\",\n",
    "    instructions=\"You are a helpful assistant who is knowledgeable about programming and technology.\"\n",
    ")"
   ]
  },
  {
   "cell_type": "markdown",
   "id": "d05e012d",
   "metadata": {},
   "source": [
    "## Asynchronous Usage\n",
    "\n",
    "And here's how to use it asynchronously:"
   ]
  },
  {
   "cell_type": "code",
   "execution_count": null,
   "id": "8ba36bd8",
   "metadata": {},
   "outputs": [],
   "source": [
    "import asyncio\n",
    "\n",
    "async def ask_agent(question: str):\n",
    "    result = await Runner.run(agent, question)\n",
    "    return result.final_output\n",
    "\n",
    "# Run the async function\n",
    "response = await ask_agent(\"What are the main benefits of using Python for AI development?\")\n",
    "print(response)"
   ]
  }
 ],
 "metadata": {
  "kernelspec": {
   "display_name": "3.12.4",
   "language": "python",
   "name": "python3"
  },
  "language_info": {
   "codemirror_mode": {
    "name": "ipython",
    "version": 3
   },
   "file_extension": ".py",
   "mimetype": "text/x-python",
   "name": "python",
   "nbconvert_exporter": "python",
   "pygments_lexer": "ipython3",
   "version": "3.12.4"
  }
 },
 "nbformat": 4,
 "nbformat_minor": 5
}
